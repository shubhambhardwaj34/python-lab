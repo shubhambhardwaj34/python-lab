{
 "cells": [
  {
   "cell_type": "code",
   "execution_count": 1,
   "metadata": {},
   "outputs": [
    {
     "name": "stdout",
     "output_type": "stream",
     "text": [
      "Enter a string: abcdef\n",
      "Length of the input string is: 6\n"
     ]
    }
   ],
   "source": [
    "#lab3q5\n",
    "string = input(\"Enter a string: \")\n",
    "count = 0\n",
    "for i in string:\n",
    "      count = count+1\n",
    "print(\"Length of the input string is:\", count)"
   ]
  },
  {
   "cell_type": "code",
   "execution_count": 2,
   "metadata": {},
   "outputs": [
    {
     "name": "stdout",
     "output_type": "stream",
     "text": [
      "asgh\n"
     ]
    }
   ],
   "source": [
    "#lab3q7\n",
    "string = \"asdfgh\"\n",
    "length = len(string)\n",
    "if length>2:\n",
    "    print(string[0:2]+string[-2: ])\n",
    "else:\n",
    "    print(\"length of the string is less than 2\")"
   ]
  },
  {
   "cell_type": "code",
   "execution_count": 3,
   "metadata": {},
   "outputs": [
    {
     "name": "stdout",
     "output_type": "stream",
     "text": [
      "Enter a string : abcd\n",
      "Total number of characters :  4\n"
     ]
    }
   ],
   "source": [
    "#lab3q6\n",
    "string = input(\"Enter a string : \")\n",
    "count = 0\n",
    "for c in string :\n",
    "  if c.isspace() != True:\n",
    "    count = count + 1\n",
    "print(\"Total number of characters : \",count)"
   ]
  },
  {
   "cell_type": "code",
   "execution_count": 4,
   "metadata": {},
   "outputs": [
    {
     "name": "stdout",
     "output_type": "stream",
     "text": [
      "my $o$ $akes $aggi\n"
     ]
    }
   ],
   "source": [
    "#lab3q8\n",
    "string1 = \"my mom makes maggi\"\n",
    "var1 = string1[0]\n",
    "string2=string1.replace(var1,'$')\n",
    "print(var1 + string2[1:])"
   ]
  },
  {
   "cell_type": "code",
   "execution_count": 5,
   "metadata": {},
   "outputs": [
    {
     "name": "stdout",
     "output_type": "stream",
     "text": [
      "hello hi\n"
     ]
    }
   ],
   "source": [
    "#lab3q9\n",
    "str1 = \"hello\"\n",
    "str2 = \"hi\"\n",
    "var1 = str2[0]+str1[1:]\n",
    "var2 = str1[0]+str2[1:]\n",
    "str3 = var1+' '+var2\n",
    "print(str3)"
   ]
  },
  {
   "cell_type": "code",
   "execution_count": 6,
   "metadata": {},
   "outputs": [
    {
     "name": "stdout",
     "output_type": "stream",
     "text": [
      "Enter a string: abcd\n",
      "Modified string is:  abcding\n"
     ]
    }
   ],
   "source": [
    "str1=input('Enter a string: ')\n",
    "if len(str1)<3:\n",
    "    print('No change')\n",
    "else:\n",
    "    if str1[-3:]=='ing':\n",
    "        str1=str1+'ly'\n",
    "    else:\n",
    "        str1=str1+'ing'\n",
    "print('Modified string is: ', str1)"
   ]
  },
  {
   "cell_type": "code",
   "execution_count": 7,
   "metadata": {},
   "outputs": [],
   "source": [
    "#lab3q4\n",
    "mutex = True\n",
    "if (mutex == True) : \n",
    "    pass\n",
    "else : \n",
    "    print(\"False\")"
   ]
  },
  {
   "cell_type": "code",
   "execution_count": 8,
   "metadata": {},
   "outputs": [
    {
     "name": "stdout",
     "output_type": "stream",
     "text": [
      "2\n",
      "4\n",
      "6\n",
      "8\n"
     ]
    }
   ],
   "source": [
    "#lab3q3\n",
    "for num in range(1,9):\n",
    "    if num%2 != 0:\n",
    "        continue\n",
    "    print(num)"
   ]
  },
  {
   "cell_type": "code",
   "execution_count": 9,
   "metadata": {},
   "outputs": [
    {
     "name": "stdout",
     "output_type": "stream",
     "text": [
      "2\n",
      "4\n",
      "6\n",
      "8\n",
      "10\n"
     ]
    }
   ],
   "source": [
    "#lab3q2\n",
    "for i in range(2,12,2):\n",
    "    for j in range(i,12):\n",
    "        print(i)\n",
    "        break"
   ]
  },
  {
   "cell_type": "code",
   "execution_count": 10,
   "metadata": {},
   "outputs": [
    {
     "name": "stdout",
     "output_type": "stream",
     "text": [
      "1\n",
      "2\n",
      "3\n",
      "Inside else\n"
     ]
    }
   ],
   "source": [
    "#lab3q1\n",
    "i=1\n",
    "while i<4:\n",
    "    print(i)\n",
    "    i+=1\n",
    "else:\n",
    "    print(\"Inside else\")"
   ]
  },
  {
   "cell_type": "code",
   "execution_count": null,
   "metadata": {},
   "outputs": [],
   "source": []
  }
 ],
 "metadata": {
  "kernelspec": {
   "display_name": "Python 3",
   "language": "python",
   "name": "python3"
  },
  "language_info": {
   "codemirror_mode": {
    "name": "ipython",
    "version": 3
   },
   "file_extension": ".py",
   "mimetype": "text/x-python",
   "name": "python",
   "nbconvert_exporter": "python",
   "pygments_lexer": "ipython3",
   "version": "3.7.6"
  }
 },
 "nbformat": 4,
 "nbformat_minor": 4
}
