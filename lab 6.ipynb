{
 "cells": [
  {
   "cell_type": "code",
   "execution_count": 1,
   "metadata": {},
   "outputs": [
    {
     "name": "stdout",
     "output_type": "stream",
     "text": [
      "{'band': 'ford', 'model': 'mustang', 'year': 1964}\n"
     ]
    }
   ],
   "source": [
    "#q1\n",
    "a={\"band\":\"ford\",\"model\":\"mustang\",\"year\":1964}\n",
    "print(a)"
   ]
  },
  {
   "cell_type": "code",
   "execution_count": 2,
   "metadata": {},
   "outputs": [
    {
     "name": "stdout",
     "output_type": "stream",
     "text": [
      "year\n"
     ]
    }
   ],
   "source": [
    "#q2\n",
    "b=1964\n",
    "for key,value in a.items():\n",
    "    if b==value :\n",
    "        print(key)"
   ]
  },
  {
   "cell_type": "code",
   "execution_count": 3,
   "metadata": {},
   "outputs": [
    {
     "name": "stdout",
     "output_type": "stream",
     "text": [
      "{'band': 'ford', 'model': 'ecosport', 'year': 1964, 'brand': 'm001', 'colour': 'RED'}\n"
     ]
    }
   ],
   "source": [
    "#q3\n",
    "a[\"model\"]=\"ecosport\"\n",
    "a[\"brand\"]=\"m001\"\n",
    "a[\"colour\"]=\"RED\"\n",
    "print(a)"
   ]
  },
  {
   "cell_type": "code",
   "execution_count": 4,
   "metadata": {},
   "outputs": [
    {
     "name": "stdout",
     "output_type": "stream",
     "text": [
      "band\n",
      "model\n",
      "year\n",
      "brand\n",
      "colour\n",
      "ford\n",
      "ecosport\n",
      "1964\n",
      "m001\n",
      "RED\n",
      "('band', 'ford')\n",
      "('model', 'ecosport')\n",
      "('year', 1964)\n",
      "('brand', 'm001')\n",
      "('colour', 'RED')\n"
     ]
    }
   ],
   "source": [
    "#q5\n",
    "for i in a :\n",
    "    print(i)\n",
    "for i in a.values():\n",
    "    print(i)\n",
    "for i in a.items():\n",
    "    print(i)"
   ]
  },
  {
   "cell_type": "code",
   "execution_count": 5,
   "metadata": {},
   "outputs": [
    {
     "name": "stdout",
     "output_type": "stream",
     "text": [
      "Exist\n"
     ]
    }
   ],
   "source": [
    "#q6\n",
    "if a[\"model\"]==\"ecosport\":\n",
    "    print(\"Exist\")"
   ]
  },
  {
   "cell_type": "code",
   "execution_count": 6,
   "metadata": {},
   "outputs": [
    {
     "data": {
      "text/plain": [
       "'m001'"
      ]
     },
     "execution_count": 6,
     "metadata": {},
     "output_type": "execute_result"
    }
   ],
   "source": [
    "a.pop(\"brand\")"
   ]
  },
  {
   "cell_type": "code",
   "execution_count": 7,
   "metadata": {},
   "outputs": [
    {
     "name": "stdout",
     "output_type": "stream",
     "text": [
      "{'band': 'ford', 'model': 'ecosport', 'year': 1964, 'colour': 'RED'}\n"
     ]
    }
   ],
   "source": [
    "c=a.copy()\n",
    "d=dict(a)\n",
    "print(d)"
   ]
  },
  {
   "cell_type": "code",
   "execution_count": null,
   "metadata": {},
   "outputs": [],
   "source": []
  }
 ],
 "metadata": {
  "kernelspec": {
   "display_name": "Python 3",
   "language": "python",
   "name": "python3"
  },
  "language_info": {
   "codemirror_mode": {
    "name": "ipython",
    "version": 3
   },
   "file_extension": ".py",
   "mimetype": "text/x-python",
   "name": "python",
   "nbconvert_exporter": "python",
   "pygments_lexer": "ipython3",
   "version": "3.7.6"
  }
 },
 "nbformat": 4,
 "nbformat_minor": 4
}
