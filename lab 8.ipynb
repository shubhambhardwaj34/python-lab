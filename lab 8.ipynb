{
 "cells": [
  {
   "cell_type": "code",
   "execution_count": 1,
   "metadata": {},
   "outputs": [
    {
     "name": "stdout",
     "output_type": "stream",
     "text": [
      "Enter The First Side: 20\n",
      "Enter The Second Side:  20\n",
      "Enter The Third Side:  20\n",
      "The Sides Of Triangle are\n",
      "20\n",
      "20\n",
      "20\n"
     ]
    }
   ],
   "source": [
    "#q1\n",
    "class Triangle:\n",
    "    a=0\n",
    "    b=0\n",
    "    c=0\n",
    "    def create_triangle(self):\n",
    "        self.a=int(input(\"Enter The First Side: \"))\n",
    "        self.b=int(input(\"Enter The Second Side:  \"))\n",
    "        self.c = int(input(\"Enter The Third Side:  \"))\n",
    "    def printside(self):\n",
    "        print(self.a)\n",
    "        print(self.b)\n",
    "        print(self.c)\n",
    "\n",
    "tr=Triangle()\n",
    "tr.create_triangle()\n",
    "print(\"The Sides Of Triangle are\")\n",
    "tr.printside()\n"
   ]
  },
  {
   "cell_type": "code",
   "execution_count": 2,
   "metadata": {},
   "outputs": [
    {
     "name": "stdout",
     "output_type": "stream",
     "text": [
      "Enter The String:  ankit\n",
      "The input string is:  ankit\n"
     ]
    }
   ],
   "source": [
    "#q2\n",
    "class String:\n",
    "    a=\"\"\n",
    "    def gets(self):\n",
    "        self.a=input(\"Enter The String:  \")\n",
    "        return (self.a)\n",
    "str=String()\n",
    "print(\"The input string is: \" ,str.gets())"
   ]
  },
  {
   "cell_type": "code",
   "execution_count": 3,
   "metadata": {},
   "outputs": [
    {
     "name": "stdout",
     "output_type": "stream",
     "text": [
      "Enter The length: 6\n",
      "Enter The width: 3\n",
      "The Perimeter of Rectangle is:  18\n"
     ]
    }
   ],
   "source": [
    "#q3\n",
    "class Rectangle:\n",
    "    l=0.0\n",
    "    w=0.0\n",
    "    def rect(self):\n",
    "        self.l=int(input(\"Enter The length: \"))\n",
    "        self.w=int(input(\"Enter The width: \"))\n",
    "        return (2*(self.l+self.w))\n",
    "r1=Rectangle()\n",
    "print(\"The Perimeter of Rectangle is: \",r1.rect())"
   ]
  },
  {
   "cell_type": "code",
   "execution_count": 4,
   "metadata": {},
   "outputs": [
    {
     "name": "stdout",
     "output_type": "stream",
     "text": [
      "Enter The Radius: 25\n",
      "The Area Of the circle is:  1962.5\n",
      "The Perimeter of the rectangle is:  157.0\n"
     ]
    }
   ],
   "source": [
    "#q4\n",
    "class Circle:\n",
    "    rad=0.0\n",
    "    def __init__(self):\n",
    "        self.rad=float(input(\"Enter The Radius: \"))\n",
    "    def areac(self):\n",
    "        return (3.14*self.rad*self.rad)\n",
    "    def perr(self):\n",
    "        return (2*3.14*self.rad)\n",
    "c1=Circle()\n",
    "print(\"The Area Of the circle is: \" ,c1.areac())\n",
    "print(\"The Perimeter of the rectangle is: \" , c1.perr())"
   ]
  },
  {
   "cell_type": "code",
   "execution_count": 5,
   "metadata": {},
   "outputs": [
    {
     "name": "stdout",
     "output_type": "stream",
     "text": [
      "Enter the Temp in F:35\n",
      "The Conversion of F to C is: 1.6666666666666665\n",
      "Enter The Temp in c:45\n",
      "The Conversion of C to F is: 113.0\n"
     ]
    }
   ],
   "source": [
    "#q6\n",
    "class Temperature:\n",
    "    f=0.0\n",
    "    c=0.0\n",
    "    def convf(self):\n",
    "        self.f=int(input(\"Enter the Temp in F:\"))\n",
    "        return ((self.f-32)/1.8)\n",
    "    def convc(self):\n",
    "        self.c=int(input(\"Enter The Temp in c:\"))\n",
    "        return ((self.c*1.8)+32)\n",
    "te=Temperature()\n",
    "print(\"The Conversion of F to C is:\",te.convf())\n",
    "print(\"The Conversion of C to F is:\", te.convc())"
   ]
  },
  {
   "cell_type": "code",
   "execution_count": 7,
   "metadata": {},
   "outputs": [
    {
     "name": "stdout",
     "output_type": "stream",
     "text": [
      "('Ankit negi', 200, '2K18CSUN01011')\n",
      "Enter The Age of Student20\n",
      "The age of Student is 20\n",
      "Enter The Marks Of Student200\n",
      "The Update Marks Of Student is 200\n"
     ]
    }
   ],
   "source": [
    "#q7\n",
    "class student():\n",
    "    name=\"\"\n",
    "    marks=0\n",
    "    age=0\n",
    "    Roll_No=\"\"\n",
    "    def display(self):\n",
    "        return (self.name,self.marks,self.Roll_No)\n",
    "    def setage(self):\n",
    "        self.age=int(input(\"Enter The Age of Student\"))\n",
    "        return (self.age)\n",
    "    def setmarks(self):\n",
    "        self.marks=int(input(\"Enter The Marks Of Student\"))\n",
    "        return (self.marks)\n",
    "stu=student()\n",
    "stu.name=\"Ankit negi\"\n",
    "stu.marks=200\n",
    "stu.Roll_No=\"2K18CSUN01011\"\n",
    "print(stu.display())\n",
    "print(\"The age of Student is\", stu.setage())\n",
    "print(\"The Update Marks Of Student is\", stu.setmarks())"
   ]
  },
  {
   "cell_type": "code",
   "execution_count": 8,
   "metadata": {},
   "outputs": [
    {
     "name": "stdout",
     "output_type": "stream",
     "text": [
      "Enter The Hour 3\n",
      "Enter the minute25\n",
      "Enter Another hour4\n",
      "Enter Another Minute45\n",
      "The Total Time is\n",
      "7 Hour and  70 min\n",
      "The Total Minute is 490\n"
     ]
    }
   ],
   "source": [
    "#q8\n",
    "class time():\n",
    "    hour = 0\n",
    "    hour1 = 0\n",
    "    min = 0\n",
    "    min1 = 0\n",
    "    totalhr=0\n",
    "    totalmin=0\n",
    "\n",
    "    def addTime(self):\n",
    "        self.hour = int(input(\"Enter The Hour \"))\n",
    "        self.min = int(input(\"Enter the minute\"))\n",
    "        self.hour1 = int(input(\"Enter Another hour\"))\n",
    "        self.min1 = int(input(\"Enter Another Minute\"))\n",
    "\n",
    "    def displayTime(self):\n",
    "        self.totalhr=self.hour + self.hour1\n",
    "        self.totalmin=self.min + self.min1\n",
    "        print(self.totalhr,\"Hour and \",self.totalmin,\"min\")\n",
    "    def displaymin(self):\n",
    "        return (60*self.totalhr+self.totalmin)\n",
    "b1 = time()\n",
    "b1.addTime()\n",
    "print(\"The Total Time is\")\n",
    "b1.displayTime()\n",
    "print(\"The Total Minute is\",b1.displaymin())"
   ]
  },
  {
   "cell_type": "code",
   "execution_count": 10,
   "metadata": {},
   "outputs": [
    {
     "name": "stdout",
     "output_type": "stream",
     "text": [
      "Enter The String stats\n",
      "stats\n"
     ]
    }
   ],
   "source": [
    "#q9\n",
    "class reversestring:\n",
    "    a=\"\"\n",
    "    def rev_fun(self):\n",
    "        self.a=input(\"Enter The String \")\n",
    "        return self.a[::-1]\n",
    "rev=reversestring()\n",
    "print(rev.rev_fun())"
   ]
  },
  {
   "cell_type": "code",
   "execution_count": null,
   "metadata": {},
   "outputs": [],
   "source": []
  }
 ],
 "metadata": {
  "kernelspec": {
   "display_name": "Python 3",
   "language": "python",
   "name": "python3"
  },
  "language_info": {
   "codemirror_mode": {
    "name": "ipython",
    "version": 3
   },
   "file_extension": ".py",
   "mimetype": "text/x-python",
   "name": "python",
   "nbconvert_exporter": "python",
   "pygments_lexer": "ipython3",
   "version": "3.7.6"
  }
 },
 "nbformat": 4,
 "nbformat_minor": 4
}
