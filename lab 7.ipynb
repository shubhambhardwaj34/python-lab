{
 "cells": [
  {
   "cell_type": "code",
   "execution_count": 1,
   "metadata": {},
   "outputs": [
    {
     "name": "stdout",
     "output_type": "stream",
     "text": [
      "enter value of x = 3\n",
      "enter value of y = 4\n",
      "The product is 12\n"
     ]
    }
   ],
   "source": [
    "product = 0\n",
    "def multiply(x,y):\n",
    "    product = x * y\n",
    "    return product\n",
    "\n",
    "x = int(input(\"enter value of x = \"))  \n",
    "y = int(input(\"enter value of y = \")) \n",
    "print(\"The product is\",multiply(x,y))"
   ]
  },
  {
   "cell_type": "code",
   "execution_count": 2,
   "metadata": {},
   "outputs": [
    {
     "name": "stdout",
     "output_type": "stream",
     "text": [
      "enter value of x = 4\n",
      "enter value of y = 3\n",
      "The sum is 7\n"
     ]
    }
   ],
   "source": [
    "#q2 adding 2 numbers\n",
    "sum = 0\n",
    "def add(x,y):\n",
    "    sum = x + y\n",
    "    return sum\n",
    "\n",
    "x = int(input(\"enter value of x = \"))\n",
    "y = int(input(\"enter value of y = \"))\n",
    "print(\"The sum is\",add(x,y))"
   ]
  },
  {
   "cell_type": "code",
   "execution_count": 3,
   "metadata": {},
   "outputs": [
    {
     "name": "stdout",
     "output_type": "stream",
     "text": [
      "enter value of n5\n",
      "The factorial of 5 is 120\n"
     ]
    }
   ],
   "source": [
    "#q3 finding factorial\n",
    "def factorial(n):\n",
    "   if n == 1:\n",
    "       return n\n",
    "   else:\n",
    "       return n * factorial(n-1)\n",
    "\n",
    "n = int(input(\"enter value of n\"))\n",
    "\n",
    "if n < 0:\n",
    "   print(\"Sorry, factorial does not exist for negative numbers\")\n",
    "elif n == 0:\n",
    "   print(\"The factorial of 0 is 1\")\n",
    "else:\n",
    "   print(\"The factorial of\", n, \"is\", factorial(n))"
   ]
  },
  {
   "cell_type": "code",
   "execution_count": 4,
   "metadata": {},
   "outputs": [
    {
     "name": "stdout",
     "output_type": "stream",
     "text": [
      "Fibonacci sequence:\n",
      "0\n",
      "1\n",
      "1\n",
      "2\n",
      "3\n",
      "5\n",
      "8\n",
      "13\n",
      "21\n",
      "34\n"
     ]
    }
   ],
   "source": [
    "#q4 fibonacci sequence\n",
    "def fibonacci(n):\n",
    "   if n <= 1:\n",
    "       return n\n",
    "   else:\n",
    "       return(fibonacci(n-1) + fibonacci(n-2))\n",
    "\n",
    "terms = 10\n",
    "\n",
    "# check if the number of terms is valid\n",
    "if terms <= 0:\n",
    "   print(\"Plese enter a positive integer\")\n",
    "else:\n",
    "   print(\"Fibonacci sequence:\")\n",
    "   for i in range(terms):\n",
    "       print(fibonacci(i))"
   ]
  },
  {
   "cell_type": "code",
   "execution_count": 5,
   "metadata": {},
   "outputs": [
    {
     "name": "stdout",
     "output_type": "stream",
     "text": [
      "enter value of x = 5\n",
      "enter value of y = 4\n",
      "Swapped value of x is 4 & y is 5\n"
     ]
    }
   ],
   "source": [
    "#q5 swapping 2 numbers\n",
    "temp = 0\n",
    "def swapping(x, y):\n",
    "    temp = x\n",
    "    x = y\n",
    "    y = temp\n",
    "    return x, y\n",
    "    \n",
    "x = int(input(\"enter value of x = \"))\n",
    "y = int(input(\"enter value of y = \"))\n",
    "\n",
    "x, y = swapping(x, y)\n",
    "\n",
    "print(\"Swapped value of x is %d & y is %d\" %(x,y))"
   ]
  },
  {
   "cell_type": "code",
   "execution_count": 6,
   "metadata": {},
   "outputs": [
    {
     "name": "stdout",
     "output_type": "stream",
     "text": [
      "enter value of x = 6\n",
      "enter value of y = 4\n",
      "The H.C.F. is 2\n"
     ]
    }
   ],
   "source": [
    "#6 find hcf of given nos\n",
    "def highest_common_factor(x, y):\n",
    "\n",
    "    if x > y:\n",
    "        smaller = y\n",
    "    else:\n",
    "        smaller = x\n",
    "    for i in range(1, smaller+1):\n",
    "        if((x % i == 0) and (y % i == 0)):\n",
    "            hcf = i \n",
    "    return hcf\n",
    "\n",
    "x = int(input(\"enter value of x = \"))\n",
    "y = int(input(\"enter value of y = \"))\n",
    "print(\"The H.C.F. is\", highest_common_factor(x,y))"
   ]
  },
  {
   "cell_type": "code",
   "execution_count": 7,
   "metadata": {},
   "outputs": [
    {
     "name": "stdout",
     "output_type": "stream",
     "text": [
      "enter a character = d\n",
      "The ASCII value of 'd' is 100\n"
     ]
    }
   ],
   "source": [
    "#7 find ascii value of character\n",
    "x = 0\n",
    "def ASCII(c):\n",
    "    x = ord(c)\n",
    "    return x\n",
    "\n",
    "c = input(\"enter a character = \")\n",
    "print(\"The ASCII value of '\" + c + \"' is\", ASCII(c))"
   ]
  },
  {
   "cell_type": "code",
   "execution_count": 9,
   "metadata": {},
   "outputs": [
    {
     "name": "stdout",
     "output_type": "stream",
     "text": [
      "enter an number64\n",
      "square root of 64 = 8.0\n"
     ]
    }
   ],
   "source": [
    "#8 inbuilt mathematical functions\n",
    "import math\n",
    "x = 0\n",
    "def square_root(a):\n",
    "    x = math.sqrt(a)\n",
    "    return x\n",
    "\n",
    "a = int(input(\"enter an number\"))\n",
    "print(\"square root of\",a,\"=\",square_root(a))"
   ]
  },
  {
   "cell_type": "code",
   "execution_count": 10,
   "metadata": {},
   "outputs": [
    {
     "name": "stdout",
     "output_type": "stream",
     "text": [
      "the current date and time is 2020-05-06 14:03:10.821694\n"
     ]
    }
   ],
   "source": [
    "#9 inbuilt date and time functions\n",
    "import datetime\n",
    "def dt(x):\n",
    "    today = datetime.datetime.now()\n",
    "    return today\n",
    "\n",
    "print(\"the current date and time is\",dt(x))"
   ]
  },
  {
   "cell_type": "code",
   "execution_count": 11,
   "metadata": {},
   "outputs": [
    {
     "name": "stdout",
     "output_type": "stream",
     "text": [
      "hello ankit . how are you?\n"
     ]
    }
   ],
   "source": [
    "#10 demonstrating required arguments\n",
    "def greet(name,message):\n",
    "    print(\"hello\",name,\".\",message)\n",
    "    \n",
    "greet(\"ankit\",\"how are you?\")"
   ]
  },
  {
   "cell_type": "code",
   "execution_count": 12,
   "metadata": {},
   "outputs": [
    {
     "name": "stdout",
     "output_type": "stream",
     "text": [
      "details ankit,11,cse-4a\n",
      "details alisha,2,cse-4b\n",
      "details ahana,7,cse-4a\n"
     ]
    }
   ],
   "source": [
    "#q11 demonstrating keyword arguments\n",
    "#the order (position) of the arguments can be changed\n",
    "\n",
    "def attendence(name,roll_no,section = \"cse-4a\"):\n",
    "    print(\"details\",name + ',' + roll_no + ',' + section)\n",
    "    \n",
    "attendence(name = \"ankit\",section = \"cse-4a\",roll_no = \"11\")\n",
    "attendence(section =\"cse-4b\",name = \"alisha\",roll_no = \"2\") \n",
    "attendence(\"ahana\",roll_no = \"7\")"
   ]
  },
  {
   "cell_type": "code",
   "execution_count": 14,
   "metadata": {},
   "outputs": [
    {
     "name": "stdout",
     "output_type": "stream",
     "text": [
      "Hola ankit, how is your day going!\n",
      "Hola ankit, is everything alright!\n"
     ]
    }
   ],
   "source": [
    "#12 demonstrating default arguments\n",
    "\n",
    "def greeting(name, msg = \"how is your day going!\"):\n",
    "\n",
    "   print(\"Hola\",name + ', ' + msg)\n",
    "\n",
    "greeting(\"ankit\")\n",
    "greeting(\"ankit\",\"is everything alright!\")"
   ]
  },
  {
   "cell_type": "code",
   "execution_count": 15,
   "metadata": {},
   "outputs": [
    {
     "name": "stdout",
     "output_type": "stream",
     "text": [
      "Hello\n",
      "hi\n",
      "hola\n",
      "namaste\n"
     ]
    }
   ],
   "source": [
    "#q13  demonstrating variable length arguments\n",
    "\n",
    "def my_fun(*argv):  \n",
    "    for arg in argv:  \n",
    "        print (arg) \n",
    "    \n",
    "my_fun('Hello', 'hi', 'hola', 'namaste')"
   ]
  },
  {
   "cell_type": "code",
   "execution_count": null,
   "metadata": {},
   "outputs": [],
   "source": []
  }
 ],
 "metadata": {
  "kernelspec": {
   "display_name": "Python 3",
   "language": "python",
   "name": "python3"
  },
  "language_info": {
   "codemirror_mode": {
    "name": "ipython",
    "version": 3
   },
   "file_extension": ".py",
   "mimetype": "text/x-python",
   "name": "python",
   "nbconvert_exporter": "python",
   "pygments_lexer": "ipython3",
   "version": "3.7.6"
  }
 },
 "nbformat": 4,
 "nbformat_minor": 4
}
