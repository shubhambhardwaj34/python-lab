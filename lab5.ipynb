{
 "cells": [
  {
   "cell_type": "code",
   "execution_count": 1,
   "metadata": {},
   "outputs": [
    {
     "name": "stdout",
     "output_type": "stream",
     "text": [
      "Sum:  1310\n"
     ]
    }
   ],
   "source": [
    "#q1\n",
    "sum = 0\n",
    "a=[1,3,7,3,8,524,764]\n",
    "for i in range(0,len(a)):\n",
    "    sum = sum + a[i]\n",
    "print(\"Sum: \",sum)"
   ]
  },
  {
   "cell_type": "code",
   "execution_count": 2,
   "metadata": {},
   "outputs": [
    {
     "name": "stdout",
     "output_type": "stream",
     "text": [
      "Mul:  201769344\n"
     ]
    }
   ],
   "source": [
    "#q2\n",
    "mul = 1\n",
    "a=[1,3,7,3,8,524,764]\n",
    "for i in range(0,len(a)):\n",
    "    mul = mul* a[i]\n",
    "print(\"Mul: \",mul)"
   ]
  },
  {
   "cell_type": "code",
   "execution_count": 3,
   "metadata": {},
   "outputs": [
    {
     "name": "stdout",
     "output_type": "stream",
     "text": [
      "Max:  764\n"
     ]
    }
   ],
   "source": [
    "#q3\n",
    "a=[1,3,7,3,8,524,764]    \n",
    "print(\"Max: \",max(a))"
   ]
  },
  {
   "cell_type": "code",
   "execution_count": 4,
   "metadata": {},
   "outputs": [
    {
     "name": "stdout",
     "output_type": "stream",
     "text": [
      "Min:  1\n"
     ]
    }
   ],
   "source": [
    "#q4\n",
    "a=[1,3,7,3,8,524,764]    \n",
    "print(\"Min: \",min(a))"
   ]
  },
  {
   "cell_type": "code",
   "execution_count": 5,
   "metadata": {},
   "outputs": [
    {
     "name": "stdout",
     "output_type": "stream",
     "text": [
      "[(2, 1), (1, 2), (2, 3), (4, 4), (2, 5)]\n"
     ]
    }
   ],
   "source": [
    "#q6\n",
    "a =[(2,5),(1,2),(4,4),(2,3),(2,1)]  \n",
    "def Sort_Tuple(a):  \n",
    "    lst = len(a)  \n",
    "    for i in range(0, lst):  \n",
    "        for j in range(0, lst-i-1):  \n",
    "            if (a[j][1] > a[j + 1][1]):  \n",
    "                temp = a[j]  \n",
    "                a[j]= a[j + 1]  \n",
    "                a[j + 1]= temp  \n",
    "    return a  \n",
    "print(Sort_Tuple(a))"
   ]
  },
  {
   "cell_type": "code",
   "execution_count": 6,
   "metadata": {},
   "outputs": [
    {
     "name": "stdout",
     "output_type": "stream",
     "text": [
      "[1, 2, 4, 'a', 'g', 'q']\n"
     ]
    }
   ],
   "source": [
    "#q7\n",
    "c = [1,2,4,1,4,'a','g','q','a']\n",
    "c = list(dict.fromkeys(c))\n",
    "print(c)"
   ]
  },
  {
   "cell_type": "code",
   "execution_count": 7,
   "metadata": {},
   "outputs": [
    {
     "name": "stdout",
     "output_type": "stream",
     "text": [
      "Empty List\n"
     ]
    }
   ],
   "source": [
    "#q8\n",
    "d=[]\n",
    "if len(d)==0:\n",
    "    print(\"Empty List\")\n",
    "else:\n",
    "    print(\"List not Empty \",d)"
   ]
  },
  {
   "cell_type": "code",
   "execution_count": 8,
   "metadata": {},
   "outputs": [
    {
     "name": "stdout",
     "output_type": "stream",
     "text": [
      "[1, 2, 3, 4, 5, 6]\n"
     ]
    }
   ],
   "source": [
    "#q9\n",
    "e=[1,2,3,4,5,6]\n",
    "f=[]\n",
    "f=e\n",
    "print(f)"
   ]
  },
  {
   "cell_type": "code",
   "execution_count": 9,
   "metadata": {},
   "outputs": [
    {
     "name": "stdout",
     "output_type": "stream",
     "text": [
      "[1, 2, 3, 4, 5, 6]\n"
     ]
    }
   ],
   "source": [
    "#q11\n",
    "e=[1,2,3,4,5,6]\n",
    "f=[]\n",
    "f=e\n",
    "print(f)"
   ]
  },
  {
   "cell_type": "code",
   "execution_count": 10,
   "metadata": {},
   "outputs": [
    {
     "name": "stdout",
     "output_type": "stream",
     "text": [
      "[2, 3, 4, 9]\n"
     ]
    }
   ],
   "source": [
    "#q12\n",
    "i=[1,2,3,4,5,6,9]\n",
    "i.pop(0)\n",
    "i.pop(4)\n",
    "i.pop(-2)\n",
    "print(i)"
   ]
  },
  {
   "cell_type": "code",
   "execution_count": null,
   "metadata": {},
   "outputs": [],
   "source": []
  }
 ],
 "metadata": {
  "kernelspec": {
   "display_name": "Python 3",
   "language": "python",
   "name": "python3"
  },
  "language_info": {
   "codemirror_mode": {
    "name": "ipython",
    "version": 3
   },
   "file_extension": ".py",
   "mimetype": "text/x-python",
   "name": "python",
   "nbconvert_exporter": "python",
   "pygments_lexer": "ipython3",
   "version": "3.7.6"
  }
 },
 "nbformat": 4,
 "nbformat_minor": 4
}
