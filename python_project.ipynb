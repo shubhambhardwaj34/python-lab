{
 "cells": [
  {
   "cell_type": "markdown",
   "metadata": {},
   "source": [
    "## python project"
   ]
  },
  {
   "cell_type": "markdown",
   "metadata": {},
   "source": [
    "### Adventure games"
   ]
  },
  {
   "cell_type": "markdown",
   "metadata": {},
   "source": [
    "#### Made by Sarthak Teotia And Shubham Bhardwaj"
   ]
  },
  {
   "cell_type": "code",
   "execution_count": 3,
   "metadata": {},
   "outputs": [
    {
     "name": "stdout",
     "output_type": "stream",
     "text": [
      "You are in a land full of dragons. In front of\n",
      "you are two caves. In one cave the dragon is\n",
      "friendly and will give you his treasure. In the\n",
      "other, the dragon is greedy and hungry and will\n",
      "eat you on sight\n",
      "\n",
      "Which cave will you choose? (1 or 2)\n",
      "1\n",
      "You approach the cave...\n",
      "It is dark and spooky...\n",
      "A large dragon jumps out in front of you. He opens his jaws and...\n",
      "\n",
      "gobbles you down in one bite\n",
      "Would you like to play again? (yes or no)\n",
      "yes\n",
      "You are in a land full of dragons. In front of\n",
      "you are two caves. In one cave the dragon is\n",
      "friendly and will give you his treasure. In the\n",
      "other, the dragon is greedy and hungry and will\n",
      "eat you on sight\n",
      "\n",
      "Which cave will you choose? (1 or 2)\n",
      "2\n",
      "You approach the cave...\n",
      "It is dark and spooky...\n",
      "A large dragon jumps out in front of you. He opens his jaws and...\n",
      "\n",
      "gives you his treasure\n",
      "Would you like to play again? (yes or no)\n",
      "no\n"
     ]
    }
   ],
   "source": [
    "import random\n",
    "import time\n",
    "\n",
    "def displayIntro():\n",
    "    print(\"You are in a land full of dragons. In front of\")\n",
    "    print(\"you are two caves. In one cave the dragon is\")\n",
    "    print(\"friendly and will give you his treasure. In the\")\n",
    "    print(\"other, the dragon is greedy and hungry and will\")\n",
    "    print(\"eat you on sight\")\n",
    "    print()\n",
    "\n",
    "def chooseCave():\n",
    "    cave = \"\"\n",
    "    while cave != \"1\" and cave != \"2\":\n",
    "        print(\"Which cave will you choose? (1 or 2)\")\n",
    "        cave = input()\n",
    "    return cave\n",
    "\n",
    "def checkCave(chosenCave):\n",
    "    print(\"You approach the cave...\")\n",
    "    time.sleep(2)\n",
    "    print(\"It is dark and spooky...\")\n",
    "    time.sleep(2)\n",
    "    print(\"A large dragon jumps out in front of you. He opens his jaws and...\")\n",
    "    print()\n",
    "    time.sleep(2)\n",
    "\n",
    "    friendlyCave = random.randint(1,2)\n",
    "\n",
    "    if chosenCave == str(friendlyCave):\n",
    "        print(\"gives you his treasure\")\n",
    "    else:\n",
    "        print(\"gobbles you down in one bite\")\n",
    "\n",
    "\n",
    "playAgain = \"yes\"\n",
    "while playAgain ==\"yes\" or playAgain == \"y\":\n",
    "\n",
    "    displayIntro()\n",
    "\n",
    "    caveNumber = chooseCave()\n",
    "\n",
    "    checkCave(caveNumber)\n",
    "\n",
    "    print(\"Would you like to play again? (yes or no)\")\n",
    "    playAgain = input()"
   ]
  },
  {
   "cell_type": "code",
   "execution_count": 6,
   "metadata": {},
   "outputs": [],
   "source": [
    "#Text-based games have been well documented since at least the 1960s, when teleprinters were interlaced with mainframe computers as a form of input, where the output was printed on paper. With that, notable titles were developed for those computers using the teleprinter in the 1960s and 1970s, and numerous more have been developed for video terminals since at least the mid-1970s, having reached their peak popularity in that decade and the 1980s, and continued as early online games into the mid-1990s."
   ]
  },
  {
   "cell_type": "code",
   "execution_count": null,
   "metadata": {},
   "outputs": [],
   "source": []
  }
 ],
 "metadata": {
  "kernelspec": {
   "display_name": "Python 3",
   "language": "python",
   "name": "python3"
  },
  "language_info": {
   "codemirror_mode": {
    "name": "ipython",
    "version": 3
   },
   "file_extension": ".py",
   "mimetype": "text/x-python",
   "name": "python",
   "nbconvert_exporter": "python",
   "pygments_lexer": "ipython3",
   "version": "3.7.6"
  }
 },
 "nbformat": 4,
 "nbformat_minor": 4
}
